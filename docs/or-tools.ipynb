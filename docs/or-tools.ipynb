{
  "cells": [
    {
      "cell_type": "raw",
      "metadata": {},
      "source": [
        "---\n",
        "title: \"OR Tools\"\n",
        "author: \"Thiago Pires\"\n",
        "format: html\n",
        "---"
      ],
      "id": "9d295045"
    },
    {
      "cell_type": "markdown",
      "metadata": {},
      "source": [
        "### TSP Problem"
      ],
      "id": "9fe79ab9"
    },
    {
      "cell_type": "code",
      "metadata": {},
      "source": [
        "import osmnx as ox\n",
        "\n",
        "G = ox.graph_from_bbox(37.79, 37.78, -122.41, -122.43, network_type='drive')\n",
        "G_projected = ox.project_graph(G)\n",
        "ox.plot_graph(G_projected)"
      ],
      "id": "12309662",
      "execution_count": null,
      "outputs": []
    },
    {
      "cell_type": "markdown",
      "metadata": {},
      "source": [
        "    p1 = list(long = -47.0708, lat = -22.9075),\n",
        "    p2 = list(long = -47.0348, lat = -22.8804)"
      ],
      "id": "51093c6a"
    }
  ],
  "metadata": {
    "kernelspec": {
      "name": "python3",
      "language": "python",
      "display_name": "Python 3"
    }
  },
  "nbformat": 4,
  "nbformat_minor": 5
}